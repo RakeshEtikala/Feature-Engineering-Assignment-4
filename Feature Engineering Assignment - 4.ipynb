{
 "cells": [
  {
   "cell_type": "markdown",
   "id": "237d3332-a500-4dbb-ae61-1cabb5d486af",
   "metadata": {},
   "source": [
    "Q1. What is data encoding? How is it useful in data science"
   ]
  },
  {
   "cell_type": "markdown",
   "id": "0ea944b9-1644-44fa-8ce2-20f927a6d74d",
   "metadata": {},
   "source": [
    "Ans. Encoding helps machine learning models handle categorical data, as many algorithms require numerical input. It prevents the model from assuming any ordinal relationship between the categories, which is important when dealing with nominal data (categories without a specific order). "
   ]
  },
  {
   "cell_type": "markdown",
   "id": "b720b04c-6707-42ec-b36f-5b8921f7c96f",
   "metadata": {},
   "source": [
    "Q2. What is nominal encoding? Provide an example of how you would use it in a real-world scenario"
   ]
  },
  {
   "cell_type": "markdown",
   "id": "ccde67cc-557c-4df5-a599-19fbcadb3a7a",
   "metadata": {},
   "source": [
    "Ans. Nominal encoding is a way of representing categorical data where categories do not have any inherent order or ranking. In nominal encoding, each category is assigned a unique numerical identifier without any particular meaning or order. This encoding is suitable for variables with categories that don't have a natural or meaningful sequence.\n",
    "\n",
    "Common methods for nominal encoding include:\n",
    "\n",
    "Label Encoding:\n",
    "\n",
    "Assigns a unique integer to each category.\n",
    "The integers have no inherent meaning, and the ordering is arbitrary.\n",
    "For example, if you have categories like \"Red,\" \"Blue,\" and \"Green,\" you might assign them integer values like 0, 1, and 2."
   ]
  },
  {
   "cell_type": "markdown",
   "id": "51a692a0-d824-406b-ae5c-d765c800d564",
   "metadata": {},
   "source": [
    "Q3. In what situations is nominal encoding preferred over one-hot encoding? Provide a practical example."
   ]
  },
  {
   "cell_type": "markdown",
   "id": "3d1d1ffb-2f97-4292-94cb-155ba9a7358e",
   "metadata": {},
   "source": [
    "Ans. when we have multiple features in a dataset and if we want to perform encoding, one hot encoding generates mulitple features of the dataset for example if we have 100 features in a data set it creates again 100 multiple features wheras in nominal encoding it assigns a value to each and every categorical variable and creates a single column "
   ]
  },
  {
   "cell_type": "markdown",
   "id": "c18817fe-1309-472b-8d12-36ca46d29100",
   "metadata": {},
   "source": [
    "Q4. Suppose you have a dataset containing categorical data with 5 unique values. Which encoding \n",
    "technique would you use to transform this data into a format suitable for machine learning algorithms? \n",
    "Explain why you made this choice."
   ]
  },
  {
   "cell_type": "markdown",
   "id": "cb21fc80-a5e8-446b-982b-f7634b9f629f",
   "metadata": {},
   "source": [
    "Ans. Here i will be using one hot encoding if there is no order of uniquwe values if i have order i will be using ordinal encoding."
   ]
  },
  {
   "cell_type": "markdown",
   "id": "debcdfe4-e910-4d06-9bf4-290048dd07d4",
   "metadata": {},
   "source": [
    "Q5. In a machine learning project, you have a dataset with 1000 rows and 5 columns. Two of the columns \n",
    "are categorical, and the remaining three columns are numerical. If you were to use nominal encoding to \n",
    "transform the categorical data, how many new columns would be created? Show your calculations."
   ]
  },
  {
   "cell_type": "markdown",
   "id": "95f5adee-78b3-4787-8546-b293e6469e69",
   "metadata": {},
   "source": [
    "ans. In the above question they didn't mention how many unique categorical values are present without knowing that we can't assume how many unique values are present in the dataset and we can't come to a conclusion."
   ]
  },
  {
   "cell_type": "markdown",
   "id": "dc270ec0-dbb7-4d6c-9075-6174fce6c8b9",
   "metadata": {},
   "source": [
    "Q6. You are working with a dataset containing information about different types of animals, including their \n",
    "species, habitat, and diet. Which encoding technique would you use to transform the categorical data into \n",
    "a format suitable for machine learning algorithms? Justify your answer."
   ]
  },
  {
   "cell_type": "markdown",
   "id": "af5124ab-0a6e-4a3b-9208-d7cf12d1a223",
   "metadata": {},
   "source": [
    "Answer. Here we can use one hot encoding as we can assign each unique column with unique values eg 0 and 1"
   ]
  },
  {
   "cell_type": "markdown",
   "id": "f584d24c-19fe-4f62-983f-0a0c8bcefa63",
   "metadata": {},
   "source": [
    "Q7.You are working on a project that involves predicting customer churn for a telecommunications \n",
    "company. You have a dataset with 5 features, including the customer's gender, age, contract type, \n",
    "monthly charges, and tenure. Which encoding technique(s) would you use to transform the categorical \n",
    "data into numerical data? Provide a step-by-step explanation of how you would implement the encoding."
   ]
  },
  {
   "cell_type": "markdown",
   "id": "bfa36419-4423-4385-8a2e-e7cbce537c1f",
   "metadata": {},
   "source": [
    "Ans: - one hot encoding.\n",
    "1. Identify Categorical Features:\n",
    "2. Understand Unique Categories:\n",
    "3. Apply One-Hot Encoding:\n",
    "4. Merge with the Original Dataset:\n",
    "5. "
   ]
  },
  {
   "cell_type": "code",
   "execution_count": null,
   "id": "ce510267-3c6e-4e75-8603-64227f90b4f4",
   "metadata": {},
   "outputs": [],
   "source": []
  }
 ],
 "metadata": {
  "kernelspec": {
   "display_name": "Python 3 (ipykernel)",
   "language": "python",
   "name": "python3"
  },
  "language_info": {
   "codemirror_mode": {
    "name": "ipython",
    "version": 3
   },
   "file_extension": ".py",
   "mimetype": "text/x-python",
   "name": "python",
   "nbconvert_exporter": "python",
   "pygments_lexer": "ipython3",
   "version": "3.10.8"
  }
 },
 "nbformat": 4,
 "nbformat_minor": 5
}
